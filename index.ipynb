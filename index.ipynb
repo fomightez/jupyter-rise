{
 "cells": [
  {
   "cell_type": "markdown",
   "metadata": {
    "slideshow": {
     "slide_type": "slide"
    }
   },
   "source": [
    "# Welcome to the Binder-RISE + Julia demo\n",
    "Press `space` to move to the next sub- slide..."
   ]
  },
  {
   "cell_type": "markdown",
   "metadata": {
    "slideshow": {
     "slide_type": "subslide"
    }
   },
   "source": [
    "## Press it again to be taken to a code cell\n",
    " \n",
    "You'll be able to click and run the code cell, live in the presentation!"
   ]
  },
  {
   "cell_type": "code",
   "execution_count": null,
   "metadata": {
    "slideshow": {
     "slide_type": "subslide"
    }
   },
   "outputs": [],
   "source": [
    "# Here are our imports (press shift+enter)\n",
    "using PyPlot\n",
    "ioff() # Interactive plotting OFF, necessary for inline plotting in IJulia"
   ]
  },
  {
   "cell_type": "markdown",
   "metadata": {
    "slideshow": {
     "slide_type": "subslide"
    }
   },
   "source": [
    "Now we'll generate some data and make a plot! Run the cell below..."
   ]
  },
  {
   "cell_type": "code",
   "execution_count": null,
   "metadata": {},
   "outputs": [],
   "source": [
    "x = 100 * rand(500)\n",
    "y = 100 * rand(500)\n",
    "areas = 800 * rand(500);\n",
    "\n",
    "#  Scatterplot# \n",
    "fig = figure(\"scatterplot\",figsize=(10,10))\n",
    "ax = axes()\n",
    "scatter(x,y,s=areas,alpha=0.5, c=areas)\n",
    "\n",
    "title(\"Scatter Plot\")\n",
    "xlabel(\"X\")\n",
    "ylabel(\"Y\")\n",
    "grid(\"on\")\n",
    "gcf();"
   ]
  },
  {
   "cell_type": "markdown",
   "metadata": {},
   "source": [
    "You can even change the code and update the plot in real-time!"
   ]
  },
  {
   "cell_type": "markdown",
   "metadata": {
    "slideshow": {
     "slide_type": "slide"
    }
   },
   "source": [
    "# And that's it!\n",
    "\n",
    "If you want to learn more about the RISE plugin, check out [the RISE documentation](https://damianavila.github.io/RISE).\n",
    "\n",
    "If you want to go backwards, hit `shift + space`. Or click the `X` in the top left to go back to the notebook interface.\n",
    "\n",
    "Thanks for playing around with the RISE live demo binder!"
   ]
  }
 ],
 "metadata": {
  "celltoolbar": "Slideshow",
  "kernelspec": {
   "display_name": "Julia 0.6.0",
   "language": "julia",
   "name": "julia-0.6"
  },
  "language_info": {
   "file_extension": ".jl",
   "mimetype": "application/julia",
   "name": "julia",
   "version": "0.6.0"
  },
  "livereveal": {
   "autolaunch": true,
   "scroll": true
  }
 },
 "nbformat": 4,
 "nbformat_minor": 2
}
